{
 "cells": [
  {
   "cell_type": "markdown",
   "metadata": {},
   "source": [
    "# DBMS - ER MODEL"
   ]
  },
  {
   "cell_type": "markdown",
   "metadata": {},
   "source": [
    "# 1.Basic Concepts of ER Model in DBMS"
   ]
  },
  {
   "cell_type": "markdown",
   "metadata": {},
   "source": [
    ">  Entity-relationship model is a model used for design and representation of relationships between data.\n",
    "\n",
    "      * The main data objects are termed as Entities, with their details defined as attributes, \n",
    "      * some of these attributes are important and are used to identity the entity,\n",
    "      * Different entities are related using relationships.\n",
    "\n",
    "      * In short, to understand about the ER Model, we must understand about:\n",
    "\n",
    "         * Entity and Entity Set\n",
    "         * What are Attributes? And Types of Attributes.\n",
    "         * Keys\n",
    "         * Relationships\n",
    "      * Let's take an example to explain everything. \n",
    "           * For a School Management Software, we will have to store \n",
    "           * Student information, Teacher information, Classes, Subjects taught in each class etc."
   ]
  },
  {
   "cell_type": "markdown",
   "metadata": {},
   "source": [
    "## Entity and Entity Set\n",
    "    * Considering the above example, Student is an entity, Teacher is an entity, \n",
    "    * similarly, Class, Subject etc are also entities.\n",
    "\n",
    "    * An Entity is generally a real-world object which has characteristics and holds relationships in a DBMS.\n",
    "\n",
    "    * If a Student is an Entity, then the complete dataset of all the students will be the Entity Set"
   ]
  },
  {
   "cell_type": "markdown",
   "metadata": {},
   "source": [
    "##  Attributes\n",
    "    * If a Student is an Entity, then student's roll no., student's name, \n",
    "         * student's age, student's gender etc will be its attributes.\n",
    "\n",
    "    * An attribute can be of many types, here are different types of attributes defined in ER database model:\n",
    "\n",
    "        * 1)Simple attribute: The attributes with values that are atomic and\n",
    "                    * cannot be broken down further are simple attributes. For example, student's age.\n",
    "        * 2)Composite attribute: A composite attribute is made up of more than one simple attribute. \n",
    "                    * For example, student's address will contain, house no., street name, pincode etc.\n",
    "        * 3)Derived attribute: These are the attributes which are not present in the whole database management system, \n",
    "                    * but are derived using other attributes. For example, average age of students in a class.\n",
    "        * 4)Single-valued attribute: As the name suggests, they have a single value.\n",
    "        \n",
    "        * 5)Multi-valued attribute: And, they can have multiple values."
   ]
  },
  {
   "cell_type": "markdown",
   "metadata": {},
   "source": [
    "##  Keys\n",
    "    * If the attribute roll no. can uniquely identify a student entity, amongst all the students, \n",
    "         * then the attribute roll no. will be said to be a key.\n",
    "\n",
    "    * Following are the types of Keys:\n",
    "\n",
    "        * Super Key\n",
    "        * Candidate Key\n",
    "        * Primary Key\n",
    "     * We have covered Keys in relation model."
   ]
  },
  {
   "cell_type": "markdown",
   "metadata": {},
   "source": [
    "## Relationships\n",
    "    * When an Entity is related to another Entity, they are said to have a relationship. \n",
    "    * For example, A Class Entity is related to Student entity, becasue students study in classes, \n",
    "    * hence this is a relationship.\n",
    "\n",
    "    * Depending upon the number of entities involved, a degree is assigned to relationships.\n",
    "\n",
    "    * For example, if 2 entities are involved, it is said to be Binary relationship, \n",
    "    * if 3 entities are involved, it is said to be Ternary relationship, and so on.\n",
    "\n"
   ]
  },
  {
   "cell_type": "markdown",
   "metadata": {},
   "source": [
    "# 2. Creating ER Diagram\n",
    "# Working with ER Diagram"
   ]
  },
  {
   "cell_type": "markdown",
   "metadata": {},
   "source": [
    "    * ER Diagram is a visual representation of data that describes how data is related to each other. \n",
    "    * In ER Model, we disintegrate data into entities, attributes and setup relationships between entities,\n",
    "    * all this can be represented visually using the ER diagram.\n",
    "\n",
    "    * For example, in the below diagram, anyone can see and understand what the diagram wants to convey:\n",
    "    * Developer develops a website, whereas a Visitor visits a website.\n",
    "   ![view](images/er-diagram.jpg)\n",
    "\n"
   ]
  },
  {
   "cell_type": "markdown",
   "metadata": {},
   "source": [
    "## Components of ER Diagram"
   ]
  },
  {
   "cell_type": "markdown",
   "metadata": {},
   "source": [
    "* Entitiy, Attributes, Relationships etc form the components of ER Diagram.\n",
    "* there are defined symbols and shapes to represent each one of them.![view](images/er-relation.jpg)\n"
   ]
  },
  {
   "cell_type": "markdown",
   "metadata": {},
   "source": [
    "## Weak Entity\n",
    "    * Weak entity is an entity that depends on another entity. \n",
    "    * Weak entity doesn't have any key attribute of its own. Double rectangle is used to represent a weak entity.\n",
    "![view](images/weak-entity-example.jpg)\n"
   ]
  },
  {
   "cell_type": "markdown",
   "metadata": {},
   "source": [
    "## Key Attribute\n",
    "    * Key attribute represents the main characterstic of an Entity. \n",
    "    * It is used to represent a Primary key. Ellipse with the text underlined, represents Key Attribute.\n",
    "![view](images/key-attribute-example.jpg)\n",
    "\n"
   ]
  },
  {
   "cell_type": "markdown",
   "metadata": {},
   "source": [
    "##  Relationship\n",
    "    * A Relationship describes relation between entities. Relationship is represented using diamonds or rhombus.\n",
    "\n",
    "* relationship example er diagram ![view](images/relationship-example.jpg)\n",
    "\n",
    "    * There are three types of relationship that exist between Entities.\n",
    "\n",
    "     *  1) Binary Relationship\n",
    "     *  2) Recursive Relationship\n",
    "     * 3) Ternary Relationship\n"
   ]
  },
  {
   "cell_type": "markdown",
   "metadata": {},
   "source": [
    "## Binary Relationship\n",
    "     * Binary Relationship means relation between two Entities. This is further divided into three types.\n",
    "\n",
    "\n",
    "     * 1) One to One Relationship:\n",
    "* This type of relationship is rarely seen in real world.![view](images/one-to-one-example.jpg)\n",
    "   * The above example describes that one student can enroll only for one course and\n",
    "   * a course will also have only one Student.\n",
    "     * 2) One to Many Relationship:\n",
    "           * The below example showcases this relationship, \n",
    "           * which means that 1 student can opt for many courses, \n",
    "           * but a course can only have 1 student. Sounds weird! This is how it is.\n",
    "![view](images/one-to-many-example.jpg)\n",
    "     * 3) Many to One Relationship\n",
    "           * It reflects business rule that many entities can be associated with just one entity. \n",
    "           * For example, Student enrolls for only one Course but a Course can have many Students.\n",
    "* ![view](images/many-to-one.jpg)\n",
    "      * 4) Many to Many Relationship\n",
    "           * the diagram represents that one student can enroll for more than one courses.\n",
    "           * And a course can have more than 1 student enrolled in it.\n",
    "![view](images/many-to-many-example.jpg)"
   ]
  },
  {
   "cell_type": "markdown",
   "metadata": {},
   "source": [
    "##  Recursive Relationship\n",
    "   * When an Entity is related with itself it is known as Recursive Relationship.![view](irecursive-relationship.jpg)\n",
    "## Ternary Relationship\n",
    "   * Relationship of degree three is called Ternary relationship.\n",
    "\n",
    "   * A Ternary relationship involves three entities. \n",
    "   * In such relationships we always consider two entites together and then look upon the third.![view](ternary-relationship.png)\n",
    "   * For example, in the diagram above, we have three related entities, Company, Product and Sector. \n",
    "   * To understand the relationship better or to define rules around the model, \n",
    "   * we should relate two entities and then derive the third one.\n",
    "\n",
    "   * A Company produces many Products/ each product is produced by exactly one company.\n",
    "\n",
    "   * A Company operates in only one Sector / each sector has many companies operating in it.\n",
    "\n",
    "   * Considering the above two rules or relationships, \n",
    "   * we see that although the complete relationship involves three entities, \n",
    "   * but we are looking at two entities at a time.\n",
    "\n"
   ]
  },
  {
   "cell_type": "markdown",
   "metadata": {},
   "source": [
    "# 3.Generalization and Specialization\n",
    " # The Enhanced ER Model"
   ]
  },
  {
   "cell_type": "markdown",
   "metadata": {},
   "source": [
    "* some improvements or enhancements were made to the existing ER Model \n",
    "* to make it able to handle the complex applications better.\n",
    "   * Hence, as part of the Enhanced ER Model, \n",
    "* along with other improvements, three new concepts were added to the existing ER Model,\n",
    "* they were:\n",
    "    * 1) Generalization\n",
    "    * 2) Specialization\n",
    "    * 3) Aggregration"
   ]
  },
  {
   "cell_type": "markdown",
   "metadata": {},
   "source": [
    "###  Generalization\n",
    ">   * Generalization is a bottom-up approach in which two lower level entities combine to form a higher level entity. \n",
    "    * In generalization, the higher level entity can also combine with other lower level entities \n",
    "    * to make further higher level entity.\n",
    "\n",
    ">    * It's more like Superclass and Subclass system, but the only difference is the approach,\n",
    "     * which is bottom-up. Hence, entities are combined to form a more generalised entity, \n",
    "     * in other words, sub-classes are combined to form a super-class.\n",
    "![view](generalization.jpg)\n",
    "     * For example, Saving and Current account types entities can be generalised and an entity with name Account can be created, which covers both."
   ]
  },
  {
   "cell_type": "markdown",
   "metadata": {},
   "source": [
    "## Specialization\n",
    ">   * Specialization is opposite to Generalization. \n",
    "    * It is a top-down approach in which one higher level entity can be broken down into two lower level entity.\n",
    "    * In specialization, a higher level entity may not have any lower-level entity sets, it's possible.\n",
    "![view](specialization.jpg)\n",
    "## Agregation\n",
    ">   * Aggregration is a process when relation between two entities is treated as a single entity.\n",
    "![view](aggregration.jpg)\n",
    "     * In the diagram above, the relationship between Center and Course together, is acting as an Entity,\n",
    "     * which is in relationship with another entity Visitor. \n",
    "     * Now in real world, if a Visitor or a Student visits a Coaching Center,\n",
    "     * he/she will never enquire about the center only or just about the course, rather he/she will ask enquire about both."
   ]
  }
 ],
 "metadata": {
  "kernelspec": {
   "display_name": "Python 3",
   "language": "python",
   "name": "python3"
  },
  "language_info": {
   "codemirror_mode": {
    "name": "ipython",
    "version": 3
   },
   "file_extension": ".py",
   "mimetype": "text/x-python",
   "name": "python",
   "nbconvert_exporter": "python",
   "pygments_lexer": "ipython3",
   "version": "3.7.3"
  }
 },
 "nbformat": 4,
 "nbformat_minor": 2
}
