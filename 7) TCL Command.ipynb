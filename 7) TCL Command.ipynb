{
 "cells": [
  {
   "cell_type": "markdown",
   "metadata": {},
   "source": [
    "# Commit, Rollback and Savepoint SQL commands"
   ]
  },
  {
   "cell_type": "markdown",
   "metadata": {},
   "source": [
    "# COMMIT\n",
    "* COMMIT command is used to permanently save any transaction into the database.\n",
    "* When we use any DML command like INSERT, UPDATE or DELETE,\n",
    "* the changes made by these commands are not permanent, \n",
    "* until the current session is closed, \n",
    "* the changes made by these commands can be rolled back.\n",
    "\n",
    "### To avoid that, we use the COMMIT command to mark the changes as permanent.\n",
    " ## Syntex - COMMIT;"
   ]
  },
  {
   "cell_type": "markdown",
   "metadata": {},
   "source": [
    "# SAVEPOINT\n",
    "* SAVEPOINT command is used to temporarily save a transaction \n",
    "* so that you can rollback to that point whenever required.\n",
    "* Following is savepoint command's syntax,\n",
    "\n",
    "## Syntex- SAVEPOINT savepoint_name;"
   ]
  },
  {
   "cell_type": "markdown",
   "metadata": {},
   "source": [
    "# ROLLBACK\n",
    "* This command restores the database to last commited state.\n",
    "* It is also used with SAVEPOINT command to jump to a savepoint in an ongoing transaction.\n",
    "\n",
    "* If we have used the UPDATE command to make some changes into the database, \n",
    "* and realise that those changes were not required, \n",
    "* then we can use the ROLLBACK command to rollback those changes, \n",
    "* if they were not commited using the COMMIT command.\n",
    "\n",
    "## syntax- ROLLBACK TO savepoint_name;"
   ]
  },
  {
   "attachments": {},
   "cell_type": "markdown",
   "metadata": {},
   "source": [
    "# Example using ROLLBACK and SAVEPOINT\n",
    "![image.png](images/tcl1.png)\n",
    "![image.png](images/tcl2.png)\n",
    "![image.png](images/tcl3.png)"
   ]
  },
  {
   "cell_type": "code",
   "execution_count": null,
   "metadata": {},
   "outputs": [],
   "source": []
  }
 ],
 "metadata": {
  "kernelspec": {
   "display_name": "Python 3",
   "language": "python",
   "name": "python3"
  },
  "language_info": {
   "codemirror_mode": {
    "name": "ipython",
    "version": 3
   },
   "file_extension": ".py",
   "mimetype": "text/x-python",
   "name": "python",
   "nbconvert_exporter": "python",
   "pygments_lexer": "ipython3",
   "version": "3.7.3"
  }
 },
 "nbformat": 4,
 "nbformat_minor": 2
}
