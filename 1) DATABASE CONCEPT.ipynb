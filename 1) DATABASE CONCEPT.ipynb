{
 "cells": [
  {
   "cell_type": "markdown",
   "metadata": {},
   "source": [
    "\n",
    "\n",
    "# ^^^^^^^^^^^^DBMS(Data Base Management System)^^^^^^^^^^^^^"
   ]
  },
  {
   "cell_type": "markdown",
   "metadata": {},
   "source": [
    "# DATABASE CONCEPT\n",
    "# 1.Overview of DBMS"
   ]
  },
  {
   "cell_type": "markdown",
   "metadata": {},
   "source": [
    "## What is Data ?\n",
    "* Data is nothing but facts and statistics stored or free flowing over a network, \n",
    "* generally it's raw and unprocessed. For example: When you visit any website, \n",
    "* they might store you IP address, that is data, in return they might add a cookie in your browser, \n",
    "* marking you that you visited the website, that is data, your name, it's data, your age, it's data.\n",
    "\n",
    "* Data becomes information when it is processed, turning it into something meaningful. \n",
    "* Like, based on the cookie data saved on user's browser, \n",
    "* if a website can analyse that generally men of age 20-25 visit us more,\n",
    "* that is information, derived from the data collected."
   ]
  },
  {
   "cell_type": "markdown",
   "metadata": {},
   "source": [
    "## What is a Database?\n",
    "\n",
    " \n",
    "* A Database is a collection of related data organised in a way that data can be easily accessed,managed and updated.\n",
    "* Database can be software based or hardware based, with one sole purpose, storing data."
   ]
  },
  {
   "cell_type": "markdown",
   "metadata": {},
   "source": [
    "## What is DBMS?\n",
    "* A DBMS is a software it provides us with an interface or a tool, \n",
    "  - to perform various operations like creating database, \n",
    "  - storing data in it, updating data, creating tables in the database and a lot more.\n",
    "\n",
    "* DBMS also provides protection and security to the databases. \n",
    "* It also maintains data consistency in case of multiple users.\n",
    "\n",
    "* Here are some examples of popular DBMS used these days:\n",
    " - MySql\n",
    " - Oracle\n",
    " - SQL Server\n",
    " - IBM DB2\n",
    " - PostgreSQL\n",
    " - Amazon SimpleDB (cloud based) etc."
   ]
  },
  {
   "cell_type": "markdown",
   "metadata": {},
   "source": [
    "## Characteristics of Database Management System\n",
    "> A database management system has following characteristics:\n",
    " \n",
    "   1.Data stored into Tables:\n",
    "        * Data is never directly stored into the database.\n",
    "        * Data is stored into tables, created inside the database. \n",
    "        * DBMS also allows to have relationships between tables which makes the data more meaningful and connected. \n",
    "        * You can easily understand what type of data is stored where by looking at all the tables created in a database.\n",
    "   2.Reduced Redundancy: \n",
    "        * In the modern world hard drives are very cheap, but earlier when hard drives were too expensive, \n",
    "        * unnecessary repetition of data in database was a big problem.\n",
    "        * But DBMS follows Normalisation which divides the data in such a way that repetition is minimum.\n",
    "   3.Data Consistency: \n",
    "        * On Live data, i.e. data that is being continuosly updated and added, \n",
    "        * maintaining the consistency of data can become a challenge. But DBMS handles it all by itself.\n",
    "   4.Support Multiple user and Concurrent Access:\n",
    "        * DBMS allows multiple users to work on it(update, insert, delete data) \n",
    "        * at the same time and still manages to maintain the data consistency.\n",
    "   5.Query Language: \n",
    "        * DBMS provides users with a simple Query language, \n",
    "        * using which data can be easily fetched, inserted, \n",
    "        * deleted and updated in a database.\n",
    "   6.Security: \n",
    "        * The DBMS also takes care of the security of data, protecting the data from un-authorised access.\n",
    "        * In a typical DBMS, we can create user accounts with different access permissions, \n",
    "        * using which we can easily secure our data by restricting user access.\n",
    "   7.DBMS supports transactions,\n",
    "        * which allows us to better handle and manage data integrity in real world applications\n",
    "        * where multi-threading is extensively used."
   ]
  },
  {
   "cell_type": "markdown",
   "metadata": {},
   "source": [
    "## Advantages of DBMS\n",
    "   1. Segregation of applicaion program.\n",
    "   2. Minimal data duplicacy or data redundancy.\n",
    "   3. Easy retrieval of data using the Query Language.\n",
    "   4. Reduced development time and maintainance need.\n",
    "   5. With Cloud Datacenters, we now have Database Management Systems capable of storing almost infinite data\n",
    "   6. Seamless integration into the application programming languages\n",
    "      * which makes it very easier to add a database to almost any application or website."
   ]
  },
  {
   "cell_type": "markdown",
   "metadata": {},
   "source": [
    "## Disadvantages of DBMS\n",
    "  1. It's Complexity\n",
    "  2. Except MySQL, which is open source, licensed DBMSs are generally costly.\n",
    "  3. They are large in size."
   ]
  },
  {
   "cell_type": "markdown",
   "metadata": {},
   "source": [
    "# 2.Components of DBMS"
   ]
  },
  {
   "cell_type": "markdown",
   "metadata": {},
   "source": [
    "> The database management system can be divided into five major components, they are:\n",
    "\n",
    "    1) Hardware\n",
    "    2) Software\n",
    "    3) Data\n",
    "    4) Procedures\n",
    "    5) Database Access Language\n",
    "* Let's have a simple diagram to see how they all fit together to form a database management system \n",
    "     ![Component of DBMS](dbms.png)\n",
    "\n"
   ]
  },
  {
   "cell_type": "markdown",
   "metadata": {},
   "source": [
    "## Users\n",
    "> there are three types of users in DBMS\n",
    "\n",
    "    1) Database Administrators:\n",
    "           * Database Administrator or DBA is the one who manages the complete database management system.\n",
    "           * DBA takes care of the security of the DBMS, it's availability, \n",
    "           * managing the license keys, managing user accounts and access etc.\n",
    "    2) Application Programmer or Software Developer: \n",
    "           * This user group is involved in developing and desiging the parts of DBMS.\n",
    "    3) End User: \n",
    "           * These days all the modern applications, web or mobile, store user data. \n",
    "           * How do you think they do it? Yes, applications are programmed in such a way that they collect user data \n",
    "           * and store the data on DBMS systems running on their server. \n",
    "           * End users are the one who store, retrieve, update and delete data."
   ]
  },
  {
   "cell_type": "markdown",
   "metadata": {},
   "source": [
    "# 3. Understanding DBMS Architecture"
   ]
  },
  {
   "cell_type": "markdown",
   "metadata": {},
   "source": [
    "* A Database Management system is not always directly available for users and applications to access and store data in it.\n",
    "* A Database Management system can be centralised(all the data stored at one location), \n",
    "* decentralised(multiple copies of database at different locations) or hierarchical, depending upon its architecture."
   ]
  },
  {
   "cell_type": "markdown",
   "metadata": {},
   "source": [
    "## Database Architecture is logically of three types:\n",
    "* Types of Database Architecture ![types](images/dbms-architecture.png)\n",
    "\n",
    "  ### 1) 1-tier DBMS architecture\n",
    "       * 1-tier DBMS architecture also exist, this is when the database is directly available to the user \n",
    "       * for using it to store data. Generally such a setup is used for local application development,\n",
    "       * where programmers communicate directly with the database for quick response.\n",
    "  ### 2) 2-tier DBMS architecture\n",
    "       * 2-tier DBMS architecture includes an Application layer between the user and the DBMS,\n",
    "       * which is responsible to communicate the user's request to the database management system and \n",
    "       * then send the response from the DBMS to the user.\n",
    "\n",
    "       * An application interface known as ODBC(Open Database Connectivity)\n",
    "       * provides an API that allow client side program to call the DBMS. \n",
    "       * Most DBMS vendors provide ODBC drivers for their DBMS.\n",
    " * Architecture view of 2-tier DBMS ![Component of DBMS](images/2-tier-dbms.png)\n",
    "       * Such an architecture provides the DBMS extra security as it is not exposed to the End User directly.\n",
    "  ### 3) 3-tier DBMS architecture\n",
    "       * 3-tier DBMS architecture is the most commonly used architecture for web applications.\n",
    "       * It is an extension of the 2-tier architecture. \n",
    "       * an additional Presentation or GUI Layer is added, \n",
    "       * which provides a graphical user interface for the End user to interact with the DBMS.\n",
    "       * For the end user, the GUI layer is the Database System, \n",
    "       * the end user has no idea about the application layer and the DBMS system.\n",
    "\n",
    "        * If you have used MySQL, then you must have seen PHPMyAdmin, it is the best example of a 3-tier DBMS archi\n",
    "* Architecture view of 2-tier DBMS ![Component of DBMS](images/3-tier-dbms.png)"
   ]
  },
  {
   "cell_type": "markdown",
   "metadata": {},
   "source": [
    "# 4. DBMS Database Models"
   ]
  },
  {
   "cell_type": "markdown",
   "metadata": {},
   "source": [
    "* A Database model defines the logical design and structure of a database and \n",
    "* defines how data will be stored, accessed and updated in a database management system. \n",
    "* While the Relational Model is the most widely used database model, there are other models too:\n",
    "\n",
    "  ###  1) Hierarchical Model\n",
    "       * This database model organises data into a tree-like-structure,\n",
    "       * with one one-to-many relationship between two different types of data\n",
    "       * with a single root, to which all the other data is linked. \n",
    "       * The heirarchy starts from the Root data, and expands like a tree, adding child nodes to the parent nodes.\n",
    "* the view of Hierarchical model ![view](images/hierarchical-dbms-model.png)\n",
    "\n",
    "  ### 2) Network Model\n",
    "       * This is an extension of the Hierarchical model. \n",
    "       * In this model data is organised more like a graph, and are allowed to have more than one parent node.\n",
    "\n",
    "       * In this database model data is more related as more relationships are established in this database model.\n",
    "       * Also, as the data is more related, hence accessing the data is also easier and fast.\n",
    "       * This database model was used to map many-to-many data relationships.\n",
    "\n",
    "* This was the most widely used database model, before Relational Model was introduced.![view](images/network-dbms-model.png)\n",
    "        \n",
    "  ### 3) Entity-relationship Model\n",
    "       * In this database model, relationships are created\n",
    "       * by dividing object of interest into entity and its characteristics into attributes.\n",
    "\n",
    "       * Different entities are related using relationships.\n",
    "\n",
    "       * E-R Models are defined to represent the relationships into pictorial form\n",
    "       * it make  easier for different stakeholders to understand.\n",
    "\n",
    "       * This model is good to design a database, \n",
    "       * which can then be turned into tables in relational model(explained below).\n",
    "\n",
    "       * Let's take an example, If we have to design a School Database,\n",
    "       * then Student will be an entity with attributes name, age, address etc. \n",
    "       * As Address is another entity with attributes street name, pincode, city etc, \n",
    "       * and there will be a relationship between them.\n",
    "\n",
    "* E-R Diagrams attributes relation![view](images/attribute-example.jpg)\n",
    "  ### 4) Relational Model\n",
    "       * In this model, data is organised in two-dimensional tables\n",
    "       * the relationship is maintained by storing a common field.\n",
    "       * The basic structure of data in the relational model is tables.\n",
    "       * All the information related to a particular type is stored in rows of that table.\n",
    "       * tables are also known as relations in relational model.\n",
    "* E-R Diagrams attributes relation![view](images/relational-dbms-model.png)"
   ]
  },
  {
   "cell_type": "code",
   "execution_count": null,
   "metadata": {},
   "outputs": [],
   "source": []
  }
 ],
 "metadata": {
  "kernelspec": {
   "display_name": "Python 3",
   "language": "python",
   "name": "python3"
  },
  "language_info": {
   "codemirror_mode": {
    "name": "ipython",
    "version": 3
   },
   "file_extension": ".py",
   "mimetype": "text/x-python",
   "name": "python",
   "nbconvert_exporter": "python",
   "pygments_lexer": "ipython3",
   "version": "3.7.3"
  }
 },
 "nbformat": 4,
 "nbformat_minor": 2
}
