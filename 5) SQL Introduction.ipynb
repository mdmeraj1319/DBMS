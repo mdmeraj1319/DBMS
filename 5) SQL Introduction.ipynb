{
 "cells": [
  {
   "cell_type": "markdown",
   "metadata": {},
   "source": [
    "# SQL\n",
    "![view](images/sql1.png)\n",
    "![view](images/sql2.png)\n",
    "![view](images/sql3.png)\n",
    "![view](images/sql4.png)"
   ]
  },
  {
   "cell_type": "markdown",
   "metadata": {},
   "source": [
    "# DDL COMMAND\n",
    "![view](images/ddl1.png)\n",
    "![view](images/ddl2.png)\n",
    "![view](images/ddl3.png)"
   ]
  },
  {
   "cell_type": "markdown",
   "metadata": {},
   "source": [
    "# SQL: ALTER command :-\n",
    " ### alter command is used for altering the table structure, such as,\n",
    "\n",
    "    * to add a column to existing table\n",
    "    * to rename any existing column\n",
    "    * to change datatype of any column or to modify its size.\n",
    "    * to drop a column from the table.\n",
    "  \n",
    "  \n",
    "![view](images/dcl1.png)\n",
    "![view](images/dcl2.png)\n",
    "![view](images/dcl3.png)\n",
    "![view](images/dcl4.png)\n"
   ]
  },
  {
   "cell_type": "markdown",
   "metadata": {},
   "source": [
    "# SQL Truncate, Drop or Rename a Table:-\n",
    "![view](images/truncate.png)\n",
    "![view](images/drop.png)\n",
    "![view](images/rename.png)"
   ]
  },
  {
   "cell_type": "markdown",
   "metadata": {},
   "source": []
  }
 ],
 "metadata": {
  "kernelspec": {
   "display_name": "Python 3",
   "language": "python",
   "name": "python3"
  },
  "language_info": {
   "codemirror_mode": {
    "name": "ipython",
    "version": 3
   },
   "file_extension": ".py",
   "mimetype": "text/x-python",
   "name": "python",
   "nbconvert_exporter": "python",
   "pygments_lexer": "ipython3",
   "version": "3.7.3"
  }
 },
 "nbformat": 4,
 "nbformat_minor": 2
}
