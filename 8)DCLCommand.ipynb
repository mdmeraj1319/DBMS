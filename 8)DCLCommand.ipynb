{
 "cells": [
  {
   "cell_type": "markdown",
   "metadata": {},
   "source": [
    "#  #Using GRANT and REVOKE"
   ]
  },
  {
   "cell_type": "markdown",
   "metadata": {},
   "source": [
    ">  Data Control Language(DCL) is used to control privileges in Database. \n",
    "    * To perform any operation in the database, such as for creating tables, \n",
    "    * sequences or views, a user needs privileges. Privileges are of two types,\n",
    "\n",
    "    * System: This includes permissions for creating session, table, etc\n",
    "            * and all types of other system privileges.\n",
    "    * Object: This includes permissions for any command or query to perform any operation on the database tables.\n",
    "  ### In DCL we have two commands,\n",
    "\n",
    "    * GRANT: Used to provide any user access privileges or other priviliges for the database.\n",
    "    * REVOKE: Used to take back permissions from any user."
   ]
  },
  {
   "cell_type": "markdown",
   "metadata": {},
   "source": [
    "![VIEW](images/dcl5.png)"
   ]
  },
  {
   "cell_type": "markdown",
   "metadata": {},
   "source": [
    "## # Grant all Permission to the user To Rvoke the table,drop the table and create the table with any Name."
   ]
  },
  {
   "cell_type": "markdown",
   "metadata": {},
   "source": [
    "![view](images/dcl6.png)"
   ]
  },
  {
   "cell_type": "markdown",
   "metadata": {},
   "source": [
    "# SELECT SQL Query\n",
    "    * We can retrieve complete table data, or partial by specifying conditions using the WHERE clause.\n",
    "    \n",
    ">   Syntax of SELECT query :-\n",
    "    \n",
    "    * To retrieve the some special column from the table :- \n",
    "        SELECT \n",
    "        column_name1, \n",
    "        column_name2, \n",
    "        column_name3, \n",
    "        ...\n",
    "        column_nameN \n",
    "        FROM table_name;\n",
    "        \n",
    "     * Select all records from a table :-\n",
    "\n",
    "         \" SELECT * FROM student; \"\n",
    "       \n",
    "      * Select a particular record based on a condition\n",
    "            We can use the WHERE clause to set a condition,\n",
    "\n",
    "          \" SELECT * FROM student WHERE name = 'Abhi'; \"\n",
    "            \n",
    "      *  Performing Simple Calculations using SELECT Query :-\n",
    "      \n",
    "         \" SELECT eid, name, salary+3000  FROM employee; \""
   ]
  },
  {
   "cell_type": "markdown",
   "metadata": {},
   "source": [
    "# SQL LIKE clause\n",
    "  * LIKE clause is used in the condition in SQL query with the WHERE clause\n",
    "  * LIKE clause compares data with an expression using wildcard operators \n",
    "  * to match pattern given in the condition.\n",
    "  \n",
    "### Wildcard operators\n",
    "    > There are two wildcard operators that are used in LIKE clause.\n",
    "\n",
    "        1) Percent sign %: represents zero, one or more than one character.\n",
    "        2) Underscore sign _: represents only a single character.\n",
    "\n",
    "    >  Using % only:-\n",
    "     \n",
    "     1) \" SELECT * FROM Student WHERE s_name LIKE 'A%'; \"\n",
    "        * The above query will return all records where s_name starts with character 'A'.\n",
    "        * bcz % represent that there may be any letter after the A.\n",
    "        \n",
    "     2)  \" SELECT * FROM Student WHERE s_name LIKE '%x'; \"\n",
    "        * The above query will return all records from Student table where s_name contain 'x' as last character.\n",
    "        \n",
    "    >   Using _ and % :-\n",
    "        \n",
    "        \"  SELECT * FROM Student WHERE s_name LIKE '_d%'; \"\n",
    "         * ' _ ' represent the there must be a one character and\n",
    "         * '%' represent after d may be there zero or may be more number of charaters\n",
    "         * so, this query select the value which contain second character as 'd'.\n"
   ]
  },
  {
   "cell_type": "markdown",
   "metadata": {},
   "source": [
    "# SQL ORDER BY Clause :-\n",
    "    * By default query select the data in Ascending order or we use 'ASC' for that\n",
    "    * for descending order we use the 'DESC' "
   ]
  },
  {
   "cell_type": "markdown",
   "metadata": {},
   "source": [
    "### Syntax of Order By\n",
    "\n",
    "        \" SELECT column-list|* FROM table-name ORDER BY ASC | DESC; \"\n",
    "        \n",
    "        Example-\n",
    "            * SELECT * FROM Emp ORDER BY salary;\n",
    "                * The above query will return the resultant data in ascending order of the salary.\n",
    "                \n",
    "            * SELECT * FROM Emp ORDER BY salary DESC;\n",
    "                * The above query will return the resultant data in descending order of the salary.\n"
   ]
  },
  {
   "cell_type": "markdown",
   "metadata": {},
   "source": [
    "# SQL Group By Clause\n",
    "    * Group by clause is used to group the results of a SELECT query based on one or more columns.\n",
    "    * It is also used with SQL functions to group the result from one or more tables.\n",
    "\n",
    "    * Syntax for using Group by in a statement.\n",
    "    \n",
    "        SELECT column_name, function(column_name)\n",
    "        FROM table_name \n",
    "        WHERE condition \n",
    "        GROUP BY column_name\n",
    "        \n",
    "    * Group by give the result of unique data from the chooses column.\n",
    "    * find name and age of employees grouped by their salaries or in other words,\n",
    "    * we will be grouping employees based on their salaries, hence, as a result, \n",
    "    * we will get a data set, with unique salaries listed,\n",
    "    * along side the first employee's name and age to have that salary. Hope you are getting the point here!\n",
    "\n",
    "    > group by is used to group different row of data together based on any one column.\n",
    "\n",
    "        * SQL query for the above requirement will be,\n",
    "\n",
    "           \" SELECT name, age FROM Emp GROUP BY salary \"\n",
    "           \n",
    "         * Example of Group by in a Statement with WHERE clause :- \n",
    "           \" SELECT name, salary \n",
    "             FROM Emp \n",
    "             WHERE age > 25\n",
    "             GROUP BY salary  \""
   ]
  },
  {
   "cell_type": "markdown",
   "metadata": {},
   "source": [
    "# SQL HAVING Clause\n",
    "\n",
    " \n",
    "    * Having clause is used with SQL Queries to give more precise condition for a statement. \n",
    "    * It is used to mention condition in Group by based SQL queries, \n",
    "    * just like WHERE clause is used with SELECT query.\n",
    "\n",
    "    >  Syntax for HAVING clause is,\n",
    "\n",
    "        \"    SELECT column_name, function(column_name)\n",
    "            FROM table_name\n",
    "            WHERE column_name condition\n",
    "            GROUP BY column_name\n",
    "            HAVING function(column_name) condition   \"\n",
    "            \n",
    "            \n",
    "     *  Example of SQL Statement using HAVING:-\n",
    "        \n",
    "![view](images/having.png)\n",
    "![view](images/having2.png)\n",
    "     "
   ]
  },
  {
   "cell_type": "markdown",
   "metadata": {},
   "source": [
    "# DISTINCT keyword :-\n",
    "  > Syntax for DISTINCT Keyword\n",
    "      *  \" SELECT DISTINCT column-name FROM table-name; \" \n",
    "      *  ex-\n",
    "      *    \" SELECT DISTINCT salary FROM Emp; \""
   ]
  },
  {
   "cell_type": "markdown",
   "metadata": {},
   "source": [
    "# SQL AND & OR operator\n",
    " >  AND operator\n",
    "     * AND operator is used to set multiple conditions with \n",
    "     * the WHERE clause, alongside, SELECT, UPDATE or DELETE SQL queries.\n",
    "     * ex- \n",
    "       *  SELECT * FROM Emp WHERE salary < 10000 AND age > 25\n",
    "       *  SELECT * FROM Emp WHERE salary > 10000 OR age > 25 \n",
    "\n",
    " "
   ]
  },
  {
   "cell_type": "code",
   "execution_count": null,
   "metadata": {},
   "outputs": [],
   "source": []
  }
 ],
 "metadata": {
  "kernelspec": {
   "display_name": "Python 3",
   "language": "python",
   "name": "python3"
  },
  "language_info": {
   "codemirror_mode": {
    "name": "ipython",
    "version": 3
   },
   "file_extension": ".py",
   "mimetype": "text/x-python",
   "name": "python",
   "nbconvert_exporter": "python",
   "pygments_lexer": "ipython3",
   "version": "3.7.3"
  }
 },
 "nbformat": 4,
 "nbformat_minor": 2
}
